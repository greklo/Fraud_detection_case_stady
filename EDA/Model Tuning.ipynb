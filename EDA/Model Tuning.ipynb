{
 "cells": [
  {
   "cell_type": "code",
   "execution_count": 2,
   "metadata": {
    "collapsed": true
   },
   "outputs": [],
   "source": [
    "import pandas as pd\n",
    "import numpy as np\n",
    "import matplotlib.pyplot as plt\n",
    "%matplotlib inline"
   ]
  },
  {
   "cell_type": "code",
   "execution_count": 3,
   "metadata": {},
   "outputs": [],
   "source": [
    "df = pd.read_json('../app/files/data.json')"
   ]
  },
  {
   "cell_type": "code",
   "execution_count": 8,
   "metadata": {
    "scrolled": true
   },
   "outputs": [
    {
     "name": "stdout",
     "output_type": "stream",
     "text": [
      "<class 'pandas.core.frame.DataFrame'>\n",
      "Int64Index: 14337 entries, 0 to 14336\n",
      "Data columns (total 44 columns):\n",
      "acct_type             14337 non-null object\n",
      "approx_payout_date    14337 non-null int64\n",
      "body_length           14337 non-null int64\n",
      "channels              14337 non-null int64\n",
      "country               14256 non-null object\n",
      "currency              14337 non-null object\n",
      "delivery_method       14321 non-null float64\n",
      "description           14337 non-null object\n",
      "email_domain          14337 non-null object\n",
      "event_created         14337 non-null int64\n",
      "event_end             14337 non-null int64\n",
      "event_published       14238 non-null float64\n",
      "event_start           14337 non-null int64\n",
      "fb_published          14337 non-null int64\n",
      "gts                   14337 non-null float64\n",
      "has_analytics         14337 non-null int64\n",
      "has_header            8928 non-null float64\n",
      "has_logo              14337 non-null int64\n",
      "listed                14337 non-null object\n",
      "name                  14337 non-null object\n",
      "name_length           14337 non-null int64\n",
      "num_order             14337 non-null int64\n",
      "num_payouts           14337 non-null int64\n",
      "object_id             14337 non-null int64\n",
      "org_desc              14337 non-null object\n",
      "org_facebook          14278 non-null float64\n",
      "org_name              14337 non-null object\n",
      "org_twitter           14278 non-null float64\n",
      "payee_name            14337 non-null object\n",
      "payout_type           14337 non-null object\n",
      "previous_payouts      14337 non-null object\n",
      "sale_duration         14182 non-null float64\n",
      "sale_duration2        14337 non-null int64\n",
      "show_map              14337 non-null int64\n",
      "ticket_types          14337 non-null object\n",
      "user_age              14337 non-null int64\n",
      "user_created          14337 non-null int64\n",
      "user_type             14337 non-null int64\n",
      "venue_address         14337 non-null object\n",
      "venue_country         13261 non-null object\n",
      "venue_latitude        13261 non-null float64\n",
      "venue_longitude       13261 non-null float64\n",
      "venue_name            13261 non-null object\n",
      "venue_state           13261 non-null object\n",
      "dtypes: float64(9), int64(18), object(17)\n",
      "memory usage: 4.9+ MB\n"
     ]
    }
   ],
   "source": [
    "df.info()"
   ]
  },
  {
   "cell_type": "code",
   "execution_count": 9,
   "metadata": {
    "scrolled": true
   },
   "outputs": [
    {
     "data": {
      "text/html": [
       "<div>\n",
       "<style>\n",
       "    .dataframe thead tr:only-child th {\n",
       "        text-align: right;\n",
       "    }\n",
       "\n",
       "    .dataframe thead th {\n",
       "        text-align: left;\n",
       "    }\n",
       "\n",
       "    .dataframe tbody tr th {\n",
       "        vertical-align: top;\n",
       "    }\n",
       "</style>\n",
       "<table border=\"1\" class=\"dataframe\">\n",
       "  <thead>\n",
       "    <tr style=\"text-align: right;\">\n",
       "      <th></th>\n",
       "      <th>approx_payout_date</th>\n",
       "      <th>body_length</th>\n",
       "      <th>channels</th>\n",
       "      <th>delivery_method</th>\n",
       "      <th>event_created</th>\n",
       "      <th>event_end</th>\n",
       "      <th>event_published</th>\n",
       "      <th>event_start</th>\n",
       "      <th>fb_published</th>\n",
       "      <th>gts</th>\n",
       "      <th>...</th>\n",
       "      <th>org_facebook</th>\n",
       "      <th>org_twitter</th>\n",
       "      <th>sale_duration</th>\n",
       "      <th>sale_duration2</th>\n",
       "      <th>show_map</th>\n",
       "      <th>user_age</th>\n",
       "      <th>user_created</th>\n",
       "      <th>user_type</th>\n",
       "      <th>venue_latitude</th>\n",
       "      <th>venue_longitude</th>\n",
       "    </tr>\n",
       "  </thead>\n",
       "  <tbody>\n",
       "    <tr>\n",
       "      <th>count</th>\n",
       "      <td>1.433700e+04</td>\n",
       "      <td>14337.000000</td>\n",
       "      <td>14337.000000</td>\n",
       "      <td>14321.000000</td>\n",
       "      <td>1.433700e+04</td>\n",
       "      <td>1.433700e+04</td>\n",
       "      <td>1.423800e+04</td>\n",
       "      <td>1.433700e+04</td>\n",
       "      <td>14337.000000</td>\n",
       "      <td>14337.000000</td>\n",
       "      <td>...</td>\n",
       "      <td>14278.000000</td>\n",
       "      <td>14278.000000</td>\n",
       "      <td>14182.000000</td>\n",
       "      <td>14337.000000</td>\n",
       "      <td>14337.000000</td>\n",
       "      <td>14337.000000</td>\n",
       "      <td>1.433700e+04</td>\n",
       "      <td>14337.000000</td>\n",
       "      <td>13261.000000</td>\n",
       "      <td>13261.000000</td>\n",
       "    </tr>\n",
       "    <tr>\n",
       "      <th>mean</th>\n",
       "      <td>1.350933e+09</td>\n",
       "      <td>3672.521936</td>\n",
       "      <td>6.176676</td>\n",
       "      <td>0.439564</td>\n",
       "      <td>1.345825e+09</td>\n",
       "      <td>1.350501e+09</td>\n",
       "      <td>1.340854e+09</td>\n",
       "      <td>1.350205e+09</td>\n",
       "      <td>0.127433</td>\n",
       "      <td>2430.231492</td>\n",
       "      <td>...</td>\n",
       "      <td>7.974436</td>\n",
       "      <td>4.306976</td>\n",
       "      <td>46.869694</td>\n",
       "      <td>50.576759</td>\n",
       "      <td>0.844179</td>\n",
       "      <td>374.226547</td>\n",
       "      <td>1.313492e+09</td>\n",
       "      <td>2.711097</td>\n",
       "      <td>35.221736</td>\n",
       "      <td>-59.490368</td>\n",
       "    </tr>\n",
       "    <tr>\n",
       "      <th>std</th>\n",
       "      <td>2.401300e+07</td>\n",
       "      <td>5758.113003</td>\n",
       "      <td>3.860333</td>\n",
       "      <td>0.591487</td>\n",
       "      <td>2.404107e+07</td>\n",
       "      <td>2.401299e+07</td>\n",
       "      <td>8.750386e+07</td>\n",
       "      <td>2.398787e+07</td>\n",
       "      <td>0.333468</td>\n",
       "      <td>9142.308260</td>\n",
       "      <td>...</td>\n",
       "      <td>11.761241</td>\n",
       "      <td>6.011520</td>\n",
       "      <td>54.825253</td>\n",
       "      <td>59.678090</td>\n",
       "      <td>0.362698</td>\n",
       "      <td>418.593616</td>\n",
       "      <td>4.152174e+07</td>\n",
       "      <td>1.606726</td>\n",
       "      <td>20.207588</td>\n",
       "      <td>66.569034</td>\n",
       "    </tr>\n",
       "    <tr>\n",
       "      <th>min</th>\n",
       "      <td>1.171256e+09</td>\n",
       "      <td>0.000000</td>\n",
       "      <td>0.000000</td>\n",
       "      <td>0.000000</td>\n",
       "      <td>1.170332e+09</td>\n",
       "      <td>1.170824e+09</td>\n",
       "      <td>0.000000e+00</td>\n",
       "      <td>1.170819e+09</td>\n",
       "      <td>0.000000</td>\n",
       "      <td>0.000000</td>\n",
       "      <td>...</td>\n",
       "      <td>0.000000</td>\n",
       "      <td>0.000000</td>\n",
       "      <td>-1094.000000</td>\n",
       "      <td>-1094.000000</td>\n",
       "      <td>0.000000</td>\n",
       "      <td>0.000000</td>\n",
       "      <td>1.011210e+09</td>\n",
       "      <td>1.000000</td>\n",
       "      <td>-45.045208</td>\n",
       "      <td>-159.390183</td>\n",
       "    </tr>\n",
       "    <tr>\n",
       "      <th>25%</th>\n",
       "      <td>1.334221e+09</td>\n",
       "      <td>750.000000</td>\n",
       "      <td>5.000000</td>\n",
       "      <td>0.000000</td>\n",
       "      <td>1.329754e+09</td>\n",
       "      <td>1.333789e+09</td>\n",
       "      <td>1.329499e+09</td>\n",
       "      <td>1.333406e+09</td>\n",
       "      <td>0.000000</td>\n",
       "      <td>116.410000</td>\n",
       "      <td>...</td>\n",
       "      <td>0.000000</td>\n",
       "      <td>0.000000</td>\n",
       "      <td>16.000000</td>\n",
       "      <td>17.000000</td>\n",
       "      <td>1.000000</td>\n",
       "      <td>13.000000</td>\n",
       "      <td>1.286824e+09</td>\n",
       "      <td>1.000000</td>\n",
       "      <td>33.959338</td>\n",
       "      <td>-96.957828</td>\n",
       "    </tr>\n",
       "    <tr>\n",
       "      <th>50%</th>\n",
       "      <td>1.355805e+09</td>\n",
       "      <td>1990.000000</td>\n",
       "      <td>6.000000</td>\n",
       "      <td>0.000000</td>\n",
       "      <td>1.351043e+09</td>\n",
       "      <td>1.355373e+09</td>\n",
       "      <td>1.351099e+09</td>\n",
       "      <td>1.355000e+09</td>\n",
       "      <td>0.000000</td>\n",
       "      <td>431.930000</td>\n",
       "      <td>...</td>\n",
       "      <td>0.000000</td>\n",
       "      <td>0.000000</td>\n",
       "      <td>32.000000</td>\n",
       "      <td>35.000000</td>\n",
       "      <td>1.000000</td>\n",
       "      <td>242.000000</td>\n",
       "      <td>1.316636e+09</td>\n",
       "      <td>3.000000</td>\n",
       "      <td>39.974104</td>\n",
       "      <td>-79.425579</td>\n",
       "    </tr>\n",
       "    <tr>\n",
       "      <th>75%</th>\n",
       "      <td>1.370646e+09</td>\n",
       "      <td>4280.000000</td>\n",
       "      <td>8.000000</td>\n",
       "      <td>1.000000</td>\n",
       "      <td>1.365346e+09</td>\n",
       "      <td>1.370214e+09</td>\n",
       "      <td>1.365478e+09</td>\n",
       "      <td>1.370048e+09</td>\n",
       "      <td>0.000000</td>\n",
       "      <td>1547.260000</td>\n",
       "      <td>...</td>\n",
       "      <td>14.000000</td>\n",
       "      <td>11.000000</td>\n",
       "      <td>59.000000</td>\n",
       "      <td>63.000000</td>\n",
       "      <td>1.000000</td>\n",
       "      <td>603.000000</td>\n",
       "      <td>1.346790e+09</td>\n",
       "      <td>3.000000</td>\n",
       "      <td>44.857040</td>\n",
       "      <td>-3.187449</td>\n",
       "    </tr>\n",
       "    <tr>\n",
       "      <th>max</th>\n",
       "      <td>1.523488e+09</td>\n",
       "      <td>65535.000000</td>\n",
       "      <td>13.000000</td>\n",
       "      <td>3.000000</td>\n",
       "      <td>1.382012e+09</td>\n",
       "      <td>1.523056e+09</td>\n",
       "      <td>1.381608e+09</td>\n",
       "      <td>1.418850e+09</td>\n",
       "      <td>1.000000</td>\n",
       "      <td>306293.930000</td>\n",
       "      <td>...</td>\n",
       "      <td>91.000000</td>\n",
       "      <td>34.000000</td>\n",
       "      <td>980.000000</td>\n",
       "      <td>980.000000</td>\n",
       "      <td>1.000000</td>\n",
       "      <td>3794.000000</td>\n",
       "      <td>1.381543e+09</td>\n",
       "      <td>103.000000</td>\n",
       "      <td>64.844022</td>\n",
       "      <td>176.169492</td>\n",
       "    </tr>\n",
       "  </tbody>\n",
       "</table>\n",
       "<p>8 rows × 27 columns</p>\n",
       "</div>"
      ],
      "text/plain": [
       "       approx_payout_date   body_length      channels  delivery_method  \\\n",
       "count        1.433700e+04  14337.000000  14337.000000     14321.000000   \n",
       "mean         1.350933e+09   3672.521936      6.176676         0.439564   \n",
       "std          2.401300e+07   5758.113003      3.860333         0.591487   \n",
       "min          1.171256e+09      0.000000      0.000000         0.000000   \n",
       "25%          1.334221e+09    750.000000      5.000000         0.000000   \n",
       "50%          1.355805e+09   1990.000000      6.000000         0.000000   \n",
       "75%          1.370646e+09   4280.000000      8.000000         1.000000   \n",
       "max          1.523488e+09  65535.000000     13.000000         3.000000   \n",
       "\n",
       "       event_created     event_end  event_published   event_start  \\\n",
       "count   1.433700e+04  1.433700e+04     1.423800e+04  1.433700e+04   \n",
       "mean    1.345825e+09  1.350501e+09     1.340854e+09  1.350205e+09   \n",
       "std     2.404107e+07  2.401299e+07     8.750386e+07  2.398787e+07   \n",
       "min     1.170332e+09  1.170824e+09     0.000000e+00  1.170819e+09   \n",
       "25%     1.329754e+09  1.333789e+09     1.329499e+09  1.333406e+09   \n",
       "50%     1.351043e+09  1.355373e+09     1.351099e+09  1.355000e+09   \n",
       "75%     1.365346e+09  1.370214e+09     1.365478e+09  1.370048e+09   \n",
       "max     1.382012e+09  1.523056e+09     1.381608e+09  1.418850e+09   \n",
       "\n",
       "       fb_published            gts       ...         org_facebook  \\\n",
       "count  14337.000000   14337.000000       ...         14278.000000   \n",
       "mean       0.127433    2430.231492       ...             7.974436   \n",
       "std        0.333468    9142.308260       ...            11.761241   \n",
       "min        0.000000       0.000000       ...             0.000000   \n",
       "25%        0.000000     116.410000       ...             0.000000   \n",
       "50%        0.000000     431.930000       ...             0.000000   \n",
       "75%        0.000000    1547.260000       ...            14.000000   \n",
       "max        1.000000  306293.930000       ...            91.000000   \n",
       "\n",
       "        org_twitter  sale_duration  sale_duration2      show_map  \\\n",
       "count  14278.000000   14182.000000    14337.000000  14337.000000   \n",
       "mean       4.306976      46.869694       50.576759      0.844179   \n",
       "std        6.011520      54.825253       59.678090      0.362698   \n",
       "min        0.000000   -1094.000000    -1094.000000      0.000000   \n",
       "25%        0.000000      16.000000       17.000000      1.000000   \n",
       "50%        0.000000      32.000000       35.000000      1.000000   \n",
       "75%       11.000000      59.000000       63.000000      1.000000   \n",
       "max       34.000000     980.000000      980.000000      1.000000   \n",
       "\n",
       "           user_age  user_created     user_type  venue_latitude  \\\n",
       "count  14337.000000  1.433700e+04  14337.000000    13261.000000   \n",
       "mean     374.226547  1.313492e+09      2.711097       35.221736   \n",
       "std      418.593616  4.152174e+07      1.606726       20.207588   \n",
       "min        0.000000  1.011210e+09      1.000000      -45.045208   \n",
       "25%       13.000000  1.286824e+09      1.000000       33.959338   \n",
       "50%      242.000000  1.316636e+09      3.000000       39.974104   \n",
       "75%      603.000000  1.346790e+09      3.000000       44.857040   \n",
       "max     3794.000000  1.381543e+09    103.000000       64.844022   \n",
       "\n",
       "       venue_longitude  \n",
       "count     13261.000000  \n",
       "mean        -59.490368  \n",
       "std          66.569034  \n",
       "min        -159.390183  \n",
       "25%         -96.957828  \n",
       "50%         -79.425579  \n",
       "75%          -3.187449  \n",
       "max         176.169492  \n",
       "\n",
       "[8 rows x 27 columns]"
      ]
     },
     "execution_count": 9,
     "metadata": {},
     "output_type": "execute_result"
    }
   ],
   "source": [
    "df.describe()"
   ]
  },
  {
   "cell_type": "markdown",
   "metadata": {},
   "source": []
  },
  {
   "cell_type": "code",
   "execution_count": null,
   "metadata": {
    "collapsed": true
   },
   "outputs": [],
   "source": []
  },
  {
   "cell_type": "code",
   "execution_count": 10,
   "metadata": {
    "collapsed": true
   },
   "outputs": [],
   "source": [
    "frauds = ['fraudster_event','fraudster','fraudster_att']"
   ]
  },
  {
   "cell_type": "code",
   "execution_count": null,
   "metadata": {
    "collapsed": true
   },
   "outputs": [],
   "source": []
  },
  {
   "cell_type": "code",
   "execution_count": 11,
   "metadata": {
    "collapsed": true
   },
   "outputs": [],
   "source": [
    "df['frauds'] = [True if i in frauds else False for i in df['acct_type']]"
   ]
  },
  {
   "cell_type": "markdown",
   "metadata": {},
   "source": [
    "## Data Dictionary\n",
    "\n",
    "acct_type             14337 non-null object our untransformed target\n",
    "approx_payout_date    14337 non-null int64 is not expected to be predictive\n",
    "body_length           14337 non-null int64 \n",
    "channels              14337 non-null int64 \n",
    "country               14256 non-null object\n",
    "currency              14337 non-null object\n",
    "delivery_method       14321 non-null float64\n",
    "description           14337 non-null object\n",
    "email_domain          14337 non-null object\n",
    "event_created         14337 non-null int64 converted to date\n",
    "event_end             14337 non-null int64 converted to date\n",
    "event_published       14238 non-null float64 converted to date\n",
    "event_start           14337 non-null int64 converted to date\n",
    "fb_published          14337 non-null int64\n",
    "gts                   14337 non-null float64\n",
    "has_analytics         14337 non-null int64 is 1 or 0\n",
    "has_header            8928 non-null float64 is 1 or 0\n",
    "has_logo              14337 non-null int64 is 1 or 0\n",
    "listed                14337 non-null object (changed y/n to True/False)\n",
    "name                  14337 non-null object there are 13940 unique names\n",
    "name_length           14337 non-null int64\n",
    "num_order             14337 non-null int64\n",
    "num_payouts           14337 non-null int64\n",
    "object_id             14337 non-null int64\n",
    "org_desc              14337 non-null object\n",
    "org_facebook          14278 non-null float64\n",
    "org_name              14337 non-null object\n",
    "org_twitter           14278 non-null float64\n",
    "payee_name            14337 non-null object\n",
    "payout_type           14337 non-null object (blank,check, or ACH)\n",
    "previous_payouts      14337 non-null object (dictionary of previous events related to the user) ADDED num of events as num_previous_payouts)\n",
    "sale_duration         14182 non-null float64\n",
    "sale_duration2        14337 non-null int64\n",
    "show_map              14337 non-null int64\n",
    "ticket_types          14337 non-null object\n",
    "user_age              14337 non-null int64\n",
    "user_created          14337 non-null int64\n",
    "user_type             14337 non-null int64\n",
    "venue_address         14337 non-null object\n",
    "venue_country         13261 non-null object\n",
    "venue_latitude        13261 non-null float64\n",
    "venue_longitude       13261 non-null float64\n",
    "venue_name            13261 non-null object\n",
    "venue_state "
   ]
  },
  {
   "cell_type": "code",
   "execution_count": 12,
   "metadata": {
    "collapsed": true
   },
   "outputs": [],
   "source": [
    "df['num_previous_payouts'] = [len(i) for i in df['previous_payouts']]\n",
    "df['num_ticket_types'] = [len(i) for i in df['ticket_types']]\n",
    "df['description_length'] = [len(i) for i in df['description']]\n",
    "df['org_desc_length'] = [len(i) for i in df['org_desc']]\n",
    "df['listed'] = [True if i=='y' else False for i in df['listed']]\n",
    "# df['country_and_currency'] = [(i,df['currency'][idx]) for idx, i in enumerate(df['country'])]\n",
    "df['payee_name_length'] = [len(i) for i in df['payee_name']]\n",
    "df['event_length'] = df['event_end'] - df['event_start']\n",
    "df['time_to_withdrawl'] = df['approx_payout_date'] - df['event_end']\n"
   ]
  },
  {
   "cell_type": "markdown",
   "metadata": {},
   "source": [
    "## Feature Engineering\n",
    "\n",
    "Fun things:\n",
    "    \n",
    "Counted the num_previous_payouts. previous_payouts was a set of dictionaries.\n",
    "\n",
    "Did the same for ticket_types.\n",
    "\n",
    "Did something similar for description_length, payee_name_length.\n",
    "\n",
    "Wanted to add country_and_currency as a tuple. It worked in EDA, but not in the final model due to coding problems, so we removed it."
   ]
  },
  {
   "cell_type": "code",
   "execution_count": 65,
   "metadata": {
    "collapsed": true
   },
   "outputs": [],
   "source": [
    "\n",
    "# df['country_match'] = [1 if df['country'][idx] == i else 0 for idx,i in df['venue_country']]"
   ]
  },
  {
   "cell_type": "code",
   "execution_count": null,
   "metadata": {
    "collapsed": true
   },
   "outputs": [],
   "source": []
  },
  {
   "cell_type": "code",
   "execution_count": null,
   "metadata": {
    "collapsed": true
   },
   "outputs": [],
   "source": []
  },
  {
   "cell_type": "code",
   "execution_count": null,
   "metadata": {
    "collapsed": true
   },
   "outputs": [],
   "source": []
  },
  {
   "cell_type": "code",
   "execution_count": 14,
   "metadata": {
    "collapsed": true
   },
   "outputs": [],
   "source": [
    "\n",
    "from sklearn.model_selection import train_test_split as tts\n",
    "from sklearn.ensemble import RandomForestClassifier"
   ]
  },
  {
   "cell_type": "code",
   "execution_count": 15,
   "metadata": {
    "collapsed": true
   },
   "outputs": [],
   "source": [
    "df_test = df.copy()"
   ]
  },
  {
   "cell_type": "code",
   "execution_count": 54,
   "metadata": {},
   "outputs": [
    {
     "data": {
      "text/plain": [
       "RandomForestClassifier(bootstrap=True, class_weight=None, criterion='gini',\n",
       "            max_depth=None, max_features=6, max_leaf_nodes=None,\n",
       "            min_impurity_decrease=0.0, min_impurity_split=None,\n",
       "            min_samples_leaf=1, min_samples_split=2,\n",
       "            min_weight_fraction_leaf=0.0, n_estimators=500, n_jobs=1,\n",
       "            oob_score=False, random_state=None, verbose=0,\n",
       "            warm_start=False)"
      ]
     },
     "execution_count": 54,
     "metadata": {},
     "output_type": "execute_result"
    }
   ],
   "source": [
    "keep_cols = ['fb_published','sale_duration2','num_previous_payouts','payee_name_length','gts','num_ticket_types','num_order','channels','description_length','org_desc_length','num_payouts','user_type','has_logo','show_map','listed','delivery_method','payout_type','has_analytics','name_length','frauds']\n",
    "df_test = df[keep_cols]\n",
    "df_test = pd.get_dummies(df_test, columns = ['user_type','delivery_method','payout_type'])\n",
    "Y = df_test.pop('frauds')\n",
    "X = df_test\n",
    "X_train, X_test, Y_train, Y_test = tts(X,Y)\n",
    "rfc1 = RandomForestClassifier(n_estimators=500,max_features=int(len(X.columns)**(0.5)+1))\n",
    "rfc1.fit(X_train,Y_train)"
   ]
  },
  {
   "cell_type": "code",
   "execution_count": 55,
   "metadata": {},
   "outputs": [
    {
     "name": "stdout",
     "output_type": "stream",
     "text": [
      "test error: 0.988284518828\n",
      "train score: 0.999906994048\n"
     ]
    }
   ],
   "source": [
    "print \"test error:\", rfc1.score(X_test,Y_test)\n",
    "print \"train score:\", rfc1.score(X_train,Y_train)"
   ]
  },
  {
   "cell_type": "code",
   "execution_count": 56,
   "metadata": {},
   "outputs": [
    {
     "name": "stdout",
     "output_type": "stream",
     "text": [
      "[u'fb_published', u'sale_duration2', 'num_previous_payouts', 'payee_name_length', u'gts', 'num_ticket_types', u'num_order', u'channels', 'description_length', 'org_desc_length', u'num_payouts', u'has_logo', u'show_map', u'listed', u'has_analytics', u'name_length', 'user_type_1', 'user_type_2', 'user_type_3', 'user_type_4', 'user_type_5', 'user_type_103', 'delivery_method_0.0', 'delivery_method_1.0', 'delivery_method_3.0', u'payout_type_', u'payout_type_ACH', u'payout_type_CHECK']\n"
     ]
    }
   ],
   "source": [
    "a = X.columns.tolist()\n",
    "print a"
   ]
  },
  {
   "cell_type": "code",
   "execution_count": 57,
   "metadata": {
    "collapsed": true
   },
   "outputs": [],
   "source": [
    "\n",
    "from sklearn.linear_model import LogisticRegression\n",
    "from sklearn.neighbors import KNeighborsClassifier\n",
    "from sklearn.tree import DecisionTreeClassifier"
   ]
  },
  {
   "cell_type": "code",
   "execution_count": 58,
   "metadata": {
    "collapsed": true
   },
   "outputs": [],
   "source": [
    "from sklearn.metrics import confusion_matrix as coma"
   ]
  },
  {
   "cell_type": "code",
   "execution_count": 59,
   "metadata": {
    "collapsed": true
   },
   "outputs": [],
   "source": [
    "y_predict = rfc1.predict(X_test)\n"
   ]
  },
  {
   "cell_type": "code",
   "execution_count": 60,
   "metadata": {
    "collapsed": true
   },
   "outputs": [],
   "source": [
    "# logreg = LogisticRegression()\n",
    "# logreg.fit(X_train,Y_train)\n",
    "# y_predict = logreg.predict(X_test)\n",
    "\n",
    "# KNC = KNeighborsClassifier()\n",
    "# KNC.fit(X_train,Y_train)\n",
    "# y_predict = KNC.predict(X_test)\n",
    "\n",
    "# DTC = DecisionTreeClassifier()\n",
    "# DTC.fit(X_train,Y_train)\n",
    "# y_predict = DTC.predict(X_test)\n"
   ]
  },
  {
   "cell_type": "code",
   "execution_count": null,
   "metadata": {
    "collapsed": true
   },
   "outputs": [],
   "source": []
  },
  {
   "cell_type": "code",
   "execution_count": 61,
   "metadata": {
    "scrolled": true
   },
   "outputs": [
    {
     "name": "stdout",
     "output_type": "stream",
     "text": [
      "[[3252   14]\n",
      " [  28  291]]\n",
      "3252 14 28 291\n",
      "Precision is:  0.954098360656\n",
      "Recall is:  0.912225705329\n",
      "Accuracy is:  0.988284518828\n"
     ]
    }
   ],
   "source": [
    "\n",
    "conmatrix1 = coma(Y_test,y_predict)\n",
    "\n",
    "tn, fp, fn, tp = conmatrix1.ravel()\n",
    "print conmatrix1\n",
    "print tn, fp, fn, tp\n",
    "\n",
    "\n",
    "precision = tp / float(tp + fp)\n",
    "recall = tp / float(tp + fn)\n",
    "accuracy = (tp + tn) / float(tp + tn +fp +fn)\n",
    "print 'Precision is: ', precision\n",
    "print 'Recall is: ', recall\n",
    "print 'Accuracy is: ', accuracy"
   ]
  },
  {
   "cell_type": "markdown",
   "metadata": {},
   "source": [
    "Decision Tree:\n",
    "[[3200   54]\n",
    " [  50  281]]\n",
    "tn, fp, fn, tp\n",
    "3200 54 50 281\n",
    "Precision is:  0.838805970149\n",
    "Recall is:  0.848942598187\n",
    "Accuracy is:  0.970990237099"
   ]
  },
  {
   "cell_type": "markdown",
   "metadata": {},
   "source": [
    "KNN:\n",
    "[[3201   58]\n",
    " [ 222  104]]\n",
    "tn, fp, fn, tp\n",
    "3201 58 222 104\n",
    "Precision is:  0.641975308642\n",
    "Recall is:  0.319018404908\n",
    "Accuracy is:  0.92189679219"
   ]
  },
  {
   "cell_type": "markdown",
   "metadata": {},
   "source": [
    "Logistic Regression:\n",
    "[[3230   29]\n",
    " [ 122  204]]\n",
    "tn, fp, fn, tp\n",
    "3230 29 122 204\n",
    "Precision is:  0.875536480687\n",
    "Recall is:  0.625766871166\n",
    "Accuracy is:  0.957880055788"
   ]
  },
  {
   "cell_type": "markdown",
   "metadata": {},
   "source": [
    "## Those are just all terrible\n",
    "So we went with the Random Forest Tree Classifier.\n",
    "\n",
    "The Decision Tree, Logistic Regression, KNN were just terrible.\n",
    "\n",
    "We wanted to maximize recall, and precision - with recall being the preference if a tradeoff exists."
   ]
  },
  {
   "cell_type": "markdown",
   "metadata": {},
   "source": [
    "Random Forest Tree Classifier:\n",
    "[[3252   14]\n",
    " [  28  291]]\n",
    "tn, fp, fn, tp\n",
    "3252 14 28 291\n",
    "Precision is:  0.954098360656\n",
    "Recall is:  0.912225705329\n",
    "Accuracy is:  0.988284518828"
   ]
  },
  {
   "cell_type": "markdown",
   "metadata": {},
   "source": [
    "## Feature Importance\n",
    "We found that the number of related events was the strongest feature.\n",
    "\n",
    "Other important features:\n",
    "    Payout type blank, \n",
    "    Sale Duration, \n",
    "    gts - whatever that is, \n",
    "    name length, \n",
    "    description length, \n",
    "    User type 1 - whatever that is\n",
    "    \n",
    "    \n",
    "    "
   ]
  },
  {
   "cell_type": "code",
   "execution_count": 64,
   "metadata": {
    "scrolled": false
   },
   "outputs": [
    {
     "data": {
      "image/png": "[encoded data removed]",
      "text/plain": [
       "<matplotlib.figure.Figure at 0x7fb6d2be7d90>"
      ]
     },
     "metadata": {},
     "output_type": "display_data"
    }
   ],
   "source": [
    "fig, ax = plt.subplots(1,1,figsize=(30,30))\n",
    "x_labels = df_test.columns\n",
    "num_cols = range(1, len(df_test.columns)+1)\n",
    "plt.bar(num_cols,rfc1.feature_importances_,align='center')\n",
    "plt.xticks(num_cols,x_labels,rotation='vertical')\n",
    "plt.show()"
   ]
  },
  {
   "cell_type": "code",
   "execution_count": null,
   "metadata": {
    "collapsed": true
   },
   "outputs": [],
   "source": []
  },
  {
   "cell_type": "code",
   "execution_count": 579,
   "metadata": {},
   "outputs": [
    {
     "data": {
      "text/plain": [
       "[u'fb_published',\n",
       " u'sale_duration2',\n",
       " 'num_previous_payouts',\n",
       " 'payee_name_length',\n",
       " u'gts',\n",
       " 'num_ticket_types',\n",
       " u'num_order',\n",
       " 'event_length',\n",
       " u'channels',\n",
       " 'time_to_withdrawl',\n",
       " 'description_length',\n",
       " 'org_desc_length',\n",
       " u'num_payouts',\n",
       " u'has_logo',\n",
       " u'show_map',\n",
       " u'listed',\n",
       " u'has_analytics',\n",
       " u'name_length',\n",
       " 'user_type_1',\n",
       " 'user_type_2',\n",
       " 'user_type_3',\n",
       " 'user_type_4',\n",
       " 'user_type_5',\n",
       " 'user_type_103',\n",
       " \"country_and_currency_(None, u'AUD')\",\n",
       " \"country_and_currency_(None, u'CAD')\",\n",
       " \"country_and_currency_(None, u'GBP')\",\n",
       " \"country_and_currency_(None, u'USD')\",\n",
       " \"country_and_currency_(u'', u'AUD')\",\n",
       " \"country_and_currency_(u'', u'CAD')\",\n",
       " \"country_and_currency_(u'', u'EUR')\",\n",
       " \"country_and_currency_(u'', u'GBP')\",\n",
       " \"country_and_currency_(u'', u'NZD')\",\n",
       " \"country_and_currency_(u'', u'USD')\",\n",
       " \"country_and_currency_(u'A1', u'AUD')\",\n",
       " \"country_and_currency_(u'A1', u'GBP')\",\n",
       " \"country_and_currency_(u'A1', u'USD')\",\n",
       " \"country_and_currency_(u'AE', u'USD')\",\n",
       " \"country_and_currency_(u'AR', u'USD')\",\n",
       " \"country_and_currency_(u'AT', u'AUD')\",\n",
       " \"country_and_currency_(u'AT', u'EUR')\",\n",
       " \"country_and_currency_(u'AT', u'USD')\",\n",
       " \"country_and_currency_(u'AU', u'AUD')\",\n",
       " \"country_and_currency_(u'AU', u'CAD')\",\n",
       " \"country_and_currency_(u'AU', u'EUR')\",\n",
       " \"country_and_currency_(u'AU', u'GBP')\",\n",
       " \"country_and_currency_(u'AU', u'NZD')\",\n",
       " \"country_and_currency_(u'AU', u'USD')\",\n",
       " \"country_and_currency_(u'BB', u'USD')\",\n",
       " \"country_and_currency_(u'BE', u'EUR')\",\n",
       " \"country_and_currency_(u'BE', u'GBP')\",\n",
       " \"country_and_currency_(u'BG', u'GBP')\",\n",
       " \"country_and_currency_(u'BG', u'USD')\",\n",
       " \"country_and_currency_(u'BS', u'USD')\",\n",
       " \"country_and_currency_(u'CA', u'CAD')\",\n",
       " \"country_and_currency_(u'CA', u'EUR')\",\n",
       " \"country_and_currency_(u'CA', u'GBP')\",\n",
       " \"country_and_currency_(u'CA', u'USD')\",\n",
       " \"country_and_currency_(u'CH', u'GBP')\",\n",
       " \"country_and_currency_(u'CH', u'USD')\",\n",
       " \"country_and_currency_(u'CI', u'EUR')\",\n",
       " \"country_and_currency_(u'CI', u'GBP')\",\n",
       " \"country_and_currency_(u'CI', u'USD')\",\n",
       " \"country_and_currency_(u'CM', u'EUR')\",\n",
       " \"country_and_currency_(u'CM', u'GBP')\",\n",
       " \"country_and_currency_(u'CN', u'USD')\",\n",
       " \"country_and_currency_(u'CO', u'USD')\",\n",
       " \"country_and_currency_(u'CR', u'USD')\",\n",
       " \"country_and_currency_(u'CZ', u'EUR')\",\n",
       " \"country_and_currency_(u'CZ', u'GBP')\",\n",
       " \"country_and_currency_(u'CZ', u'USD')\",\n",
       " \"country_and_currency_(u'DE', u'EUR')\",\n",
       " \"country_and_currency_(u'DE', u'GBP')\",\n",
       " \"country_and_currency_(u'DE', u'USD')\",\n",
       " \"country_and_currency_(u'DK', u'GBP')\",\n",
       " \"country_and_currency_(u'DZ', u'EUR')\",\n",
       " \"country_and_currency_(u'DZ', u'GBP')\",\n",
       " \"country_and_currency_(u'DZ', u'USD')\",\n",
       " \"country_and_currency_(u'EC', u'USD')\",\n",
       " \"country_and_currency_(u'ES', u'CAD')\",\n",
       " \"country_and_currency_(u'ES', u'EUR')\",\n",
       " \"country_and_currency_(u'ES', u'GBP')\",\n",
       " \"country_and_currency_(u'FI', u'EUR')\",\n",
       " \"country_and_currency_(u'FI', u'GBP')\",\n",
       " \"country_and_currency_(u'FI', u'USD')\",\n",
       " \"country_and_currency_(u'FR', u'AUD')\",\n",
       " \"country_and_currency_(u'FR', u'EUR')\",\n",
       " \"country_and_currency_(u'FR', u'GBP')\",\n",
       " \"country_and_currency_(u'FR', u'USD')\",\n",
       " \"country_and_currency_(u'GB', u'AUD')\",\n",
       " \"country_and_currency_(u'GB', u'CAD')\",\n",
       " \"country_and_currency_(u'GB', u'EUR')\",\n",
       " \"country_and_currency_(u'GB', u'GBP')\",\n",
       " \"country_and_currency_(u'GB', u'USD')\",\n",
       " \"country_and_currency_(u'GH', u'USD')\",\n",
       " \"country_and_currency_(u'GR', u'GBP')\",\n",
       " \"country_and_currency_(u'HR', u'GBP')\",\n",
       " \"country_and_currency_(u'HR', u'USD')\",\n",
       " \"country_and_currency_(u'HU', u'EUR')\",\n",
       " \"country_and_currency_(u'HU', u'GBP')\",\n",
       " \"country_and_currency_(u'ID', u'GBP')\",\n",
       " \"country_and_currency_(u'ID', u'USD')\",\n",
       " \"country_and_currency_(u'IE', u'EUR')\",\n",
       " \"country_and_currency_(u'IE', u'GBP')\",\n",
       " \"country_and_currency_(u'IL', u'USD')\",\n",
       " \"country_and_currency_(u'IM', u'GBP')\",\n",
       " \"country_and_currency_(u'IN', u'AUD')\",\n",
       " \"country_and_currency_(u'IN', u'USD')\",\n",
       " \"country_and_currency_(u'IS', u'USD')\",\n",
       " \"country_and_currency_(u'IT', u'CAD')\",\n",
       " \"country_and_currency_(u'IT', u'EUR')\",\n",
       " \"country_and_currency_(u'IT', u'GBP')\",\n",
       " \"country_and_currency_(u'IT', u'USD')\",\n",
       " \"country_and_currency_(u'JE', u'GBP')\",\n",
       " \"country_and_currency_(u'JM', u'USD')\",\n",
       " \"country_and_currency_(u'KE', u'GBP')\",\n",
       " \"country_and_currency_(u'KH', u'USD')\",\n",
       " \"country_and_currency_(u'LB', u'USD')\",\n",
       " \"country_and_currency_(u'MA', u'USD')\",\n",
       " \"country_and_currency_(u'MX', u'CAD')\",\n",
       " \"country_and_currency_(u'MX', u'USD')\",\n",
       " \"country_and_currency_(u'MY', u'USD')\",\n",
       " \"country_and_currency_(u'NA', u'USD')\",\n",
       " \"country_and_currency_(u'NG', u'USD')\",\n",
       " \"country_and_currency_(u'NI', u'USD')\",\n",
       " \"country_and_currency_(u'NL', u'AUD')\",\n",
       " \"country_and_currency_(u'NL', u'EUR')\",\n",
       " \"country_and_currency_(u'NL', u'GBP')\",\n",
       " \"country_and_currency_(u'NL', u'USD')\",\n",
       " \"country_and_currency_(u'NZ', u'AUD')\",\n",
       " \"country_and_currency_(u'NZ', u'EUR')\",\n",
       " \"country_and_currency_(u'NZ', u'GBP')\",\n",
       " \"country_and_currency_(u'NZ', u'NZD')\",\n",
       " \"country_and_currency_(u'NZ', u'USD')\",\n",
       " \"country_and_currency_(u'PE', u'USD')\",\n",
       " \"country_and_currency_(u'PH', u'USD')\",\n",
       " \"country_and_currency_(u'PK', u'GBP')\",\n",
       " \"country_and_currency_(u'PK', u'USD')\",\n",
       " \"country_and_currency_(u'PR', u'USD')\",\n",
       " \"country_and_currency_(u'PS', u'USD')\",\n",
       " \"country_and_currency_(u'PT', u'GBP')\",\n",
       " \"country_and_currency_(u'PT', u'USD')\",\n",
       " \"country_and_currency_(u'QA', u'CAD')\",\n",
       " \"country_and_currency_(u'QA', u'USD')\",\n",
       " \"country_and_currency_(u'RO', u'EUR')\",\n",
       " \"country_and_currency_(u'RO', u'USD')\",\n",
       " \"country_and_currency_(u'RS', u'GBP')\",\n",
       " \"country_and_currency_(u'RS', u'USD')\",\n",
       " \"country_and_currency_(u'RU', u'GBP')\",\n",
       " \"country_and_currency_(u'SE', u'EUR')\",\n",
       " \"country_and_currency_(u'SE', u'USD')\",\n",
       " \"country_and_currency_(u'SG', u'AUD')\",\n",
       " \"country_and_currency_(u'SG', u'EUR')\",\n",
       " \"country_and_currency_(u'SG', u'USD')\",\n",
       " \"country_and_currency_(u'SI', u'GBP')\",\n",
       " \"country_and_currency_(u'TH', u'USD')\",\n",
       " \"country_and_currency_(u'TJ', u'GBP')\",\n",
       " \"country_and_currency_(u'TR', u'GBP')\",\n",
       " \"country_and_currency_(u'TR', u'USD')\",\n",
       " \"country_and_currency_(u'US', u'AUD')\",\n",
       " \"country_and_currency_(u'US', u'CAD')\",\n",
       " \"country_and_currency_(u'US', u'EUR')\",\n",
       " \"country_and_currency_(u'US', u'GBP')\",\n",
       " \"country_and_currency_(u'US', u'NZD')\",\n",
       " \"country_and_currency_(u'US', u'USD')\",\n",
       " \"country_and_currency_(u'UY', u'USD')\",\n",
       " \"country_and_currency_(u'VE', u'USD')\",\n",
       " \"country_and_currency_(u'VI', u'USD')\",\n",
       " \"country_and_currency_(u'VN', u'EUR')\",\n",
       " \"country_and_currency_(u'VN', u'MXN')\",\n",
       " \"country_and_currency_(u'VN', u'USD')\",\n",
       " \"country_and_currency_(u'ZA', u'GBP')\",\n",
       " \"country_and_currency_(u'ZA', u'USD')\",\n",
       " 'delivery_method_0.0',\n",
       " 'delivery_method_1.0',\n",
       " 'delivery_method_3.0',\n",
       " u'payout_type_',\n",
       " u'payout_type_ACH',\n",
       " u'payout_type_CHECK']"
      ]
     },
     "execution_count": 579,
     "metadata": {},
     "output_type": "execute_result"
    }
   ],
   "source": [
    "X_train.columns.tolist()"
   ]
  },
  {
   "cell_type": "code",
   "execution_count": null,
   "metadata": {
    "collapsed": true
   },
   "outputs": [],
   "source": []
  },
  {
   "cell_type": "code",
   "execution_count": null,
   "metadata": {
    "collapsed": true
   },
   "outputs": [],
   "source": []
  },
  {
   "cell_type": "code",
   "execution_count": 434,
   "metadata": {},
   "outputs": [
    {
     "data": {
      "text/plain": [
       "14337"
      ]
     },
     "execution_count": 434,
     "metadata": {},
     "output_type": "execute_result"
    }
   ],
   "source": [
    "len(df['object_id'].unique())"
   ]
  },
  {
   "cell_type": "code",
   "execution_count": 440,
   "metadata": {},
   "outputs": [
    {
     "data": {
      "text/plain": [
       "1"
      ]
     },
     "execution_count": 440,
     "metadata": {},
     "output_type": "execute_result"
    }
   ],
   "source": [
    "len(df['ticket_types'][2])"
   ]
  },
  {
   "cell_type": "code",
   "execution_count": 536,
   "metadata": {
    "scrolled": false
   },
   "outputs": [
    {
     "data": {
      "text/plain": [
       "0                                                         \n",
       "1                                                      RUF\n",
       "2                            University Preparation School\n",
       "3                                                         \n",
       "4              Arts and Business Council or Greater Boston\n",
       "5                                      Bluegrass Stallions\n",
       "6                                                         \n",
       "7                                                         \n",
       "8                                                         \n",
       "9                                                         \n",
       "10                                                   SFFSN\n",
       "11                                                        \n",
       "12       Ft Worth Business Assistance Center, attn: Che...\n",
       "13                                                        \n",
       "14                                             Simply Inc.\n",
       "15                                         Reel Link Films\n",
       "16                                         Reel Link Films\n",
       "17                        Friends of South Berwick Library\n",
       "18                                                        \n",
       "19                                                        \n",
       "20                                                        \n",
       "21                                       Percussion Center\n",
       "22                       Calvary Christian Reformed Church\n",
       "23                                    First American Title\n",
       "24                                     Digital Eye Studios\n",
       "25                                                        \n",
       "26                                                        \n",
       "27                  Chicago Tribune (Care of Jenna Lasich)\n",
       "28                                                        \n",
       "29                                                        \n",
       "                               ...                        \n",
       "14307                                                     \n",
       "14308                                                     \n",
       "14309                                                     \n",
       "14310                                                     \n",
       "14311                       Trinity Church of the Nazarene\n",
       "14312                                       ABD Cycle Club\n",
       "14313                                                     \n",
       "14314                                                     \n",
       "14315                                                     \n",
       "14316                                                     \n",
       "14317                                                     \n",
       "14318                                                     \n",
       "14319                               The Arbinger Institute\n",
       "14320                                                     \n",
       "14321                                                     \n",
       "14322                                                     \n",
       "14323                                                     \n",
       "14324                                                     \n",
       "14325                                                     \n",
       "14326                                                     \n",
       "14327                          St. Cloud State University \n",
       "14328                                                     \n",
       "14329                                                     \n",
       "14330            Center for Spiritual Living- C.O.L.O.R.S.\n",
       "14331                                     Revolution Group\n",
       "14332                                                     \n",
       "14333              ARCS Foundation Inc., San Diego Chapter\n",
       "14334                                                     \n",
       "14335                                                     \n",
       "14336                                                     \n",
       "Name: payee_name, Length: 14337, dtype: object"
      ]
     },
     "execution_count": 536,
     "metadata": {},
     "output_type": "execute_result"
    }
   ],
   "source": [
    "df['payee_name']"
   ]
  },
  {
   "cell_type": "code",
   "execution_count": null,
   "metadata": {
    "collapsed": true
   },
   "outputs": [],
   "source": []
  }
 ],
 "metadata": {
  "kernelspec": {
   "display_name": "Python 3",
   "language": "python",
   "name": "python3"
  },
  "language_info": {
   "codemirror_mode": {
    "name": "ipython",
    "version": 3
   },
   "file_extension": ".py",
   "mimetype": "text/x-python",
   "name": "python",
   "nbconvert_exporter": "python",
   "pygments_lexer": "ipython3",
   "version": "3.6.3"
  }
 },
 "nbformat": 4,
 "nbformat_minor": 2
}
